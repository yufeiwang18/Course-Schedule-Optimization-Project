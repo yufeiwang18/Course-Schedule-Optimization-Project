{
 "cells": [
  {
   "cell_type": "markdown",
   "metadata": {},
   "source": [
    "#### Input data:  \n",
    "$$\\begin{aligned}\n",
    "\\text{Section information:}\n",
    "&& I & = \\text{{list of course sections}} \\\\\n",
    "&& student & = \\text{{predicted number of students who will register for each section}} \\\\\n",
    "&& PS & = \\text{{number of sessions for each section}}  \\\\\n",
    "&& TS & = \\text{{the timelength of each session in 30-minute block unit (e.g., 3, 6)}}  \\\\\n",
    "&& I_2 & = \\text{{sections with 2 sessions a week (i.e., MW and TH)}} \\\\\n",
    "\\\\\n",
    "\\text{Professor information:}\n",
    "&& P & = \\text{{list of professors}} \\\\\n",
    "&& profSec & = \\text{{list of sections taught by each professor}} \\\\\n",
    "\\\\\n",
    "\\text{Classroom information:}\n",
    "&& J & = \\text{{list of classrooms}} \\\\\n",
    "&& seat & = \\text{{number of seats in each classroom}}  \\\\\n",
    "&& B & = \\text{{list of buildings}} \\\\\n",
    "&& BC & = \\text{{list of classrooms by each building}} \\\\\n",
    "\\\\\n",
    "\\text{Day-time information:}\n",
    "&& D & = \\text{{day of week (i.e., M T W H F)}}  \\\\\n",
    "&& T & = \\text{{indexes representing start time of a section (0 is 8AM and 26 is 9PM}} \\\\\n",
    "&& Prime & = \\text{{indexes representing start time of prime time section (4 is 10AM and 20 is 6PM}} \\\\\n",
    "\\end{aligned}$$"
   ]
  },
  {
   "cell_type": "markdown",
   "metadata": {},
   "source": [
    "#### Decision variables:\n",
    "Binary variable $X_{ijdt}$ denotes whether we assign course section $i$ to classroom $j$ at day $d$ starting at time $t$.\n",
    "\n",
    "*Auxiliary variables:*  \n",
    "Binary variable $Y_{ijdt}$ denotes whether class i is still in session in classroom $j$ at day $d$ at time $t$.\n",
    "\n",
    "Binary variable $PD_{dp}$ denotes whether professor $p$ has classes on day of week $d$.\n",
    "\n",
    "Binary variable $PDB_{p,d,b}$ denotes whether professor $p$ has any class in day of week $d$ in building $b$.\n",
    "\n",
    "Integer variable $PT_{i}$ denotes the number of sessions of section $i$ that starts and ends within prime time. Prime time is defined as 10AM to 6PM.\n",
    "\n"
   ]
  },
  {
   "cell_type": "markdown",
   "metadata": {},
   "source": [
    "#### Objective:\n",
    "Our goal is to balance different components:\n",
    "- Maximize the average capacity utilization rate\n",
    "- Minimize the average number of days professors have to teach\n",
    "- Maximize the prime time classroom utilization\n",
    "\n",
    "The linear program is thus:\n",
    "\n",
    "$$\\begin{aligned}\n",
    "\\text{maximize} & (\\quad 3*\\frac{1}{|PS|} \\sum_{i\\in I}\\sum_{j\\in J}\\sum_{d\\in D}\\sum_{t\\in T}{X_{ijpt}\\frac{student_i}{seat_j}} \\\\\n",
    "& - \\frac{1}{|P|}\\sum_{p \\in P}\\sum_{d \\in D}{PD_{p,d}} \\\\\n",
    "& + 2* \\frac{1}{5*8*60*|J|}\\sum_{i\\in I}PT_i*TS_i*30) \\\\\n",
    "\\end{aligned}$$"
   ]
  },
  {
   "cell_type": "markdown",
   "metadata": {},
   "source": [
    "#### Constraints:\n",
    "$$\\begin{aligned}\n",
    "\\text{1. No start time conflict for classes:}\\\\\n",
    "Y_{ijdt} & = \\sum_{t' = max(0,t-TS_i+1)}^{t} X_{ijdt'}  && \\forall i\\in I,j\\in J,d\\in D,t\\in T\\\\\n",
    "\\sum_{i\\in I} y_{ijdt} & \\le 1 && \\forall j\\in J, d\\in D, t\\in T \\\\\n",
    "\\\\\n",
    "\\text{2. All required sessions must be scheduled:} \\\\ \n",
    "\\sum_{j\\in J}\\sum_{d\\in D}\\sum_{t\\in T}{X_{ijdt}} & = PS_i && \\forall i \\in I\\\\\n",
    "\\\\\n",
    "\\text{3. Number of students must not exceed total seats:} \\\\ \n",
    "X_{ijdt} * student_i & \\le seat_j && \\forall i \\in I, j \\in J, d \\in D, t \\in T \\\\\n",
    "\\\\\n",
    "\\text{4. No class lasts beyond school time (i.e., 9.30PM):} \\\\\n",
    "\\sum_{j \\in J}\\sum_{d \\in D}\\sum_{t \\in \\{T_{26}-TS_i+2,...,T_{26}\\}} X_{ijdt} & = 0 && \\forall i \\in I \\\\\n",
    "\\\\\n",
    "\\text{5. Binding clause for 2-session course (MW):} \\\\ \n",
    "X_{ij'M't} & = X_{ij'W't} && \\forall i \\in I_2, j \\in J, t \\in T\\\\\n",
    "\\\\\n",
    "\\text{6. Binding clause for 2-session course (TH):} \\\\\n",
    "X_{ij'T't} & = X_{ij'H't} && \\forall i \\in I_2, j \\in J, t \\in T\\\\\n",
    "\\\\\n",
    "\\text{7. No Friday class for courses with 2 sessions:} \\\\\n",
    "\\sum_{j\\in J}\\sum_{t\\in T}X_{ij'F't} & = 0 && \\forall i \\in I_2 \\\\\n",
    "\\\\\n",
    "\\text{8. No teaching conflict for professor:} \\\\\n",
    "\\sum_{i\\in ps}\\sum_{j\\in J} X_{ijdt} & \\le 1 && \\forall ps \\in profSec, d \\in D, t \\in T \\\\\n",
    "\\\\\n",
    "\\text{9. Professor to teach in one building in one day of week:} \\\\\n",
    "PDB_{pdb} & \\ge X_{ijdt} && \\forall p \\in profSec, i\\in p, d \\in D, b \\in BC, j\\in b, t\\in T \\\\\n",
    "\\sum_{b\\in B}PDB_{pdb} & \\le 1 && \\forall p\\in P, d\\in D \\\\\n",
    "\\\\\n",
    "\\text{10. Number of day professor has to teach (auxiliary):} \\\\\n",
    "\\sum_{j\\in J}\\sum_{t\\in T}X_{ijdt} & \\le PD_{dp} && \\forall ps \\in profSec, i\\in ps, d\\in D\\\\\n",
    "\\\\\n",
    "\\text{11. Prime time (auxiliary):} \\\\\n",
    "\\sum_{j\\in J} \\sum_{d\\in D} \\sum_{t\\in Prime | t+TS_i\\in Prime} \\ & \\ge PT_i && \\forall i\\in I\\\\\\\n",
    "\\end{aligned}$$"
   ]
  }
 ],
 "metadata": {
  "kernelspec": {
   "display_name": "Python 3",
   "language": "python",
   "name": "python3"
  },
  "language_info": {
   "codemirror_mode": {
    "name": "ipython",
    "version": 3
   },
   "file_extension": ".py",
   "mimetype": "text/x-python",
   "name": "python",
   "nbconvert_exporter": "python",
   "pygments_lexer": "ipython3",
   "version": "3.6.3"
  }
 },
 "nbformat": 4,
 "nbformat_minor": 2
}
